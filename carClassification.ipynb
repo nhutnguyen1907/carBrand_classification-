{
  "nbformat": 4,
  "nbformat_minor": 0,
  "metadata": {
    "colab": {
      "provenance": [],
      "gpuType": "T4",
      "include_colab_link": true
    },
    "kernelspec": {
      "name": "python3",
      "display_name": "Python 3"
    },
    "language_info": {
      "name": "python"
    },
    "accelerator": "GPU"
  },
  "cells": [
    {
      "cell_type": "markdown",
      "metadata": {
        "id": "view-in-github",
        "colab_type": "text"
      },
      "source": [
        "<a href=\"https://colab.research.google.com/github/nhutnguyen1907/carBrand_classification-/blob/main/carClassification.ipynb\" target=\"_parent\"><img src=\"https://colab.research.google.com/assets/colab-badge.svg\" alt=\"Open In Colab\"/></a>"
      ]
    },
    {
      "cell_type": "code",
      "source": [
        "import torch\n",
        "import torch.nn as nn\n",
        "import torch.optim as optim\n",
        "from torchvision import datasets, transforms\n",
        "from torch.utils.data import DataLoader"
      ],
      "metadata": {
        "id": "92fxtH33BPNb"
      },
      "execution_count": null,
      "outputs": []
    },
    {
      "cell_type": "code",
      "source": [
        "from google.colab import drive\n",
        "drive.mount('/content/drive')"
      ],
      "metadata": {
        "id": "FGGOBEF6GuBV"
      },
      "execution_count": null,
      "outputs": []
    },
    {
      "cell_type": "markdown",
      "source": [
        "**Kiểm tra thiết bị **"
      ],
      "metadata": {
        "id": "6ixlYuwCShx7"
      }
    },
    {
      "cell_type": "code",
      "source": [
        "if torch.cuda.is_available():\n",
        "    print(f\"Number of available GPUs: {torch.cuda.device_count()}\")\n",
        "    print(f\"GPU Name: {torch.cuda.get_device_name(0)}\")\n",
        "    print(f\"Current GPU Index: {torch.cuda.current_device()}\")\n",
        "else:\n",
        "    print(\"CUDA is not available. Switching to CPU...\")\n",
        "device = torch.device('cuda' if torch.cuda.is_available() else 'cpu')"
      ],
      "metadata": {
        "colab": {
          "base_uri": "https://localhost:8080/"
        },
        "id": "PyTA5pmPBSp5",
        "outputId": "8281ced2-bcee-485d-ae67-a45cc246cfcf"
      },
      "execution_count": null,
      "outputs": [
        {
          "output_type": "stream",
          "name": "stdout",
          "text": [
            "Number of available GPUs: 1\n",
            "GPU Name: Tesla T4\n",
            "Current GPU Index: 0\n"
          ]
        }
      ]
    },
    {
      "cell_type": "code",
      "source": [
        "device"
      ],
      "metadata": {
        "colab": {
          "base_uri": "https://localhost:8080/"
        },
        "id": "FxdhHF-PBTSv",
        "outputId": "c7e4bd36-a8c2-4754-d7b6-ff60f38aa827"
      },
      "execution_count": null,
      "outputs": [
        {
          "output_type": "execute_result",
          "data": {
            "text/plain": [
              "device(type='cuda')"
            ]
          },
          "metadata": {},
          "execution_count": 5
        }
      ]
    },
    {
      "cell_type": "markdown",
      "source": [
        "**Chuẩn bị Model**"
      ],
      "metadata": {
        "id": "EOgpU7yJSlTq"
      }
    },
    {
      "cell_type": "code",
      "source": [
        "class CNNModel(nn.Module):\n",
        "    def __init__(self, num_classes=7):\n",
        "        super(CNNModel, self).__init__()\n",
        "        self.conv1 = nn.Conv2d(3, 32, kernel_size=3, padding=1)\n",
        "        self.conv2 = nn.Conv2d(32, 64, kernel_size=3, padding=1)\n",
        "        self.conv3 = nn.Conv2d(64, 128, kernel_size=3, padding=1)\n",
        "        self.pool = nn.MaxPool2d(2, 2)\n",
        "        self.fc1 = nn.Linear(128 * 28 * 28, 512)\n",
        "        self.fc2 = nn.Linear(512, num_classes)\n",
        "        self.relu = nn.ReLU()\n",
        "        self.dropout = nn.Dropout(0.5)\n",
        "\n",
        "    def forward(self, x):\n",
        "        x = self.pool(self.relu(self.conv1(x)))\n",
        "        x = self.pool(self.relu(self.conv2(x)))\n",
        "        x = self.pool(self.relu(self.conv3(x)))\n",
        "        x = x.view(-1, 128 * 28 * 28)\n",
        "        x = self.dropout(x)\n",
        "        x = self.relu(self.fc1(x))\n",
        "        x = self.fc2(x)\n",
        "        return x\n",
        "\n",
        "model = CNNModel().to(device)"
      ],
      "metadata": {
        "id": "jfgJMnJPBVw8"
      },
      "execution_count": null,
      "outputs": []
    },
    {
      "cell_type": "markdown",
      "source": [
        "**Chuẩn bị dataset**"
      ],
      "metadata": {
        "id": "1nbeb8NpSskw"
      }
    },
    {
      "cell_type": "code",
      "source": [
        "\n",
        "\n",
        "train_directory = '/content/drive/MyDrive/AI/carDetec/train'\n",
        "test_directory = '/content/drive/MyDrive/AI/carDetec/test'\n",
        "\n",
        "train_transform = transforms.Compose([\n",
        "    transforms.Resize((224, 224)),\n",
        "    transforms.ToTensor(),\n",
        "    transforms.RandomHorizontalFlip(),\n",
        "    transforms.Normalize(mean=[0.5, 0.5, 0.5], std=[0.5, 0.5, 0.5])\n",
        "])\n",
        "test_transform = transforms.Compose([\n",
        "    transforms.Resize((224, 224)),\n",
        "    transforms.ToTensor(),\n",
        "    transforms.Normalize(mean=[0.5, 0.5, 0.5], std=[0.5, 0.5, 0.5])\n",
        "])\n",
        "\n",
        "train_data = datasets.ImageFolder(train_directory, transform=train_transform)\n",
        "test_data = datasets.ImageFolder(test_directory, transform=test_transform)\n",
        "batch_size = 4\n",
        "train_loader = DataLoader(train_data, batch_size=batch_size, shuffle=True)\n",
        "test_loader = DataLoader(test_data, batch_size=batch_size, shuffle=False)"
      ],
      "metadata": {
        "id": "hd7QJ3s5BdbW"
      },
      "execution_count": null,
      "outputs": []
    },
    {
      "cell_type": "markdown",
      "source": [
        "**Train Model**"
      ],
      "metadata": {
        "id": "csHjygo3Sv3r"
      }
    },
    {
      "cell_type": "code",
      "source": [
        "from tqdm import tqdm\n",
        "torch.backends.cudnn.benchmark = True\n",
        "\n",
        "\n",
        "learning_rate = 0.001\n",
        "num_epochs = 50\n",
        "\n",
        "criterion = nn.CrossEntropyLoss()\n",
        "optimizer = optim.Adam(model.parameters(), lr=learning_rate)\n",
        "\n",
        "training_loss = []\n",
        "prediction_loss = []\n",
        "\n",
        "for epoch in tqdm(range(num_epochs)):\n",
        "    #training\n",
        "    model.train()\n",
        "    running_loss = 0.0\n",
        "    for inputs, labels in train_loader:\n",
        "        inputs, labels = inputs.to(device), labels.to(device)\n",
        "        optimizer.zero_grad()\n",
        "        outputs = model(inputs)\n",
        "        loss = criterion(outputs, labels)\n",
        "        loss.backward()\n",
        "        optimizer.step()\n",
        "        running_loss += loss.item() * inputs.size(0)\n",
        "    epoch_loss = running_loss / len(train_data)\n",
        "    training_loss.append(epoch_loss)\n",
        "\n",
        "    #test\n",
        "    model.eval()\n",
        "    correct = 0\n",
        "    total = 0\n",
        "    running_prediction_loss = 0\n",
        "    with torch.no_grad():\n",
        "        for inputs, labels in test_loader:\n",
        "            inputs, labels = inputs.to(device), labels.to(device)\n",
        "            outputs = model(inputs)\n",
        "            loss = criterion(outputs, labels)\n",
        "            running_prediction_loss += loss.item() * inputs.size(0)\n",
        "            _, predicted = torch.max(outputs, 1)\n",
        "            total += labels.size(0)\n",
        "            correct += (predicted == labels).sum().item()\n",
        "\n",
        "    epoch_prediction_loss = running_prediction_loss / len(test_data)\n",
        "    prediction_loss.append(epoch_prediction_loss)\n",
        "\n",
        "    accuracy = correct / total\n",
        "    print(f\"\"\"Epoch [{epoch + 1}/{num_epochs}],\n",
        "    Training Loss: {training_loss[epoch]:.4f}, Prediction Loss: {prediction_loss[epoch]:.4f}, Accuracy on test set: {accuracy:.2%}\"\"\")"
      ],
      "metadata": {
        "colab": {
          "base_uri": "https://localhost:8080/"
        },
        "id": "8kACPieaCPUz",
        "outputId": "0d6d87f2-38ec-4e1d-87b8-2cad25be3189"
      },
      "execution_count": null,
      "outputs": [
        {
          "output_type": "stream",
          "name": "stderr",
          "text": [
            "  2%|▏         | 1/50 [20:13<16:30:51, 1213.31s/it]"
          ]
        },
        {
          "output_type": "stream",
          "name": "stdout",
          "text": [
            "Epoch [1/50], \n",
            "    Training Loss: 1.7807, Prediction Loss: 1.5747, Accuracy on test set: 41.82%\n"
          ]
        },
        {
          "output_type": "stream",
          "name": "stderr",
          "text": [
            "\r  4%|▍         | 2/50 [20:57<7:00:39, 525.82s/it]  "
          ]
        },
        {
          "output_type": "stream",
          "name": "stdout",
          "text": [
            "Epoch [2/50], \n",
            "    Training Loss: 1.4565, Prediction Loss: 1.3958, Accuracy on test set: 52.28%\n"
          ]
        },
        {
          "output_type": "stream",
          "name": "stderr",
          "text": [
            "\r  6%|▌         | 3/50 [21:42<3:59:36, 305.89s/it]"
          ]
        },
        {
          "output_type": "stream",
          "name": "stdout",
          "text": [
            "Epoch [3/50], \n",
            "    Training Loss: 1.1115, Prediction Loss: 1.2512, Accuracy on test set: 58.79%\n"
          ]
        },
        {
          "output_type": "stream",
          "name": "stderr",
          "text": [
            "\r  8%|▊         | 4/50 [22:26<2:35:18, 202.57s/it]"
          ]
        },
        {
          "output_type": "stream",
          "name": "stdout",
          "text": [
            "Epoch [4/50], \n",
            "    Training Loss: 0.8066, Prediction Loss: 1.0740, Accuracy on test set: 64.45%\n"
          ]
        },
        {
          "output_type": "stream",
          "name": "stderr",
          "text": [
            "\r 10%|█         | 5/50 [23:10<1:49:11, 145.60s/it]"
          ]
        },
        {
          "output_type": "stream",
          "name": "stdout",
          "text": [
            "Epoch [5/50], \n",
            "    Training Loss: 0.5396, Prediction Loss: 1.1488, Accuracy on test set: 66.30%\n"
          ]
        },
        {
          "output_type": "stream",
          "name": "stderr",
          "text": [
            "\r 12%|█▏        | 6/50 [23:55<1:21:36, 111.29s/it]"
          ]
        },
        {
          "output_type": "stream",
          "name": "stdout",
          "text": [
            "Epoch [6/50], \n",
            "    Training Loss: 0.3905, Prediction Loss: 1.2490, Accuracy on test set: 65.19%\n"
          ]
        },
        {
          "output_type": "stream",
          "name": "stderr",
          "text": [
            "\r 14%|█▍        | 7/50 [24:39<1:04:06, 89.45s/it] "
          ]
        },
        {
          "output_type": "stream",
          "name": "stdout",
          "text": [
            "Epoch [7/50], \n",
            "    Training Loss: 0.3104, Prediction Loss: 1.2546, Accuracy on test set: 66.30%\n"
          ]
        },
        {
          "output_type": "stream",
          "name": "stderr",
          "text": [
            "\r 16%|█▌        | 8/50 [25:25<52:43, 75.33s/it]  "
          ]
        },
        {
          "output_type": "stream",
          "name": "stdout",
          "text": [
            "Epoch [8/50], \n",
            "    Training Loss: 0.1948, Prediction Loss: 1.5358, Accuracy on test set: 65.81%\n"
          ]
        },
        {
          "output_type": "stream",
          "name": "stderr",
          "text": [
            "\r 18%|█▊        | 9/50 [26:10<45:02, 65.90s/it]"
          ]
        },
        {
          "output_type": "stream",
          "name": "stdout",
          "text": [
            "Epoch [9/50], \n",
            "    Training Loss: 0.1614, Prediction Loss: 1.5238, Accuracy on test set: 67.40%\n"
          ]
        },
        {
          "output_type": "stream",
          "name": "stderr",
          "text": [
            "\r 20%|██        | 10/50 [26:55<39:37, 59.43s/it]"
          ]
        },
        {
          "output_type": "stream",
          "name": "stdout",
          "text": [
            "Epoch [10/50], \n",
            "    Training Loss: 0.1413, Prediction Loss: 1.5617, Accuracy on test set: 67.53%\n"
          ]
        },
        {
          "output_type": "stream",
          "name": "stderr",
          "text": [
            "\r 22%|██▏       | 11/50 [27:40<35:49, 55.12s/it]"
          ]
        },
        {
          "output_type": "stream",
          "name": "stdout",
          "text": [
            "Epoch [11/50], \n",
            "    Training Loss: 0.1222, Prediction Loss: 1.8500, Accuracy on test set: 65.19%\n"
          ]
        },
        {
          "output_type": "stream",
          "name": "stderr",
          "text": [
            "\r 24%|██▍       | 12/50 [28:24<32:46, 51.75s/it]"
          ]
        },
        {
          "output_type": "stream",
          "name": "stdout",
          "text": [
            "Epoch [12/50], \n",
            "    Training Loss: 0.1070, Prediction Loss: 1.6406, Accuracy on test set: 68.27%\n"
          ]
        },
        {
          "output_type": "stream",
          "name": "stderr",
          "text": [
            "\r 26%|██▌       | 13/50 [29:08<30:27, 49.40s/it]"
          ]
        },
        {
          "output_type": "stream",
          "name": "stdout",
          "text": [
            "Epoch [13/50], \n",
            "    Training Loss: 0.0972, Prediction Loss: 1.7509, Accuracy on test set: 65.19%\n"
          ]
        },
        {
          "output_type": "stream",
          "name": "stderr",
          "text": [
            "\r 28%|██▊       | 14/50 [29:53<28:48, 48.01s/it]"
          ]
        },
        {
          "output_type": "stream",
          "name": "stdout",
          "text": [
            "Epoch [14/50], \n",
            "    Training Loss: 0.0863, Prediction Loss: 2.0473, Accuracy on test set: 68.51%\n"
          ]
        },
        {
          "output_type": "stream",
          "name": "stderr",
          "text": [
            "\r 30%|███       | 15/50 [30:37<27:21, 46.89s/it]"
          ]
        },
        {
          "output_type": "stream",
          "name": "stdout",
          "text": [
            "Epoch [15/50], \n",
            "    Training Loss: 0.0666, Prediction Loss: 1.9549, Accuracy on test set: 67.77%\n"
          ]
        },
        {
          "output_type": "stream",
          "name": "stderr",
          "text": [
            "\r 32%|███▏      | 16/50 [31:22<26:10, 46.18s/it]"
          ]
        },
        {
          "output_type": "stream",
          "name": "stdout",
          "text": [
            "Epoch [16/50], \n",
            "    Training Loss: 0.0745, Prediction Loss: 1.8984, Accuracy on test set: 67.16%\n"
          ]
        },
        {
          "output_type": "stream",
          "name": "stderr",
          "text": [
            "\r 34%|███▍      | 17/50 [32:06<25:04, 45.60s/it]"
          ]
        },
        {
          "output_type": "stream",
          "name": "stdout",
          "text": [
            "Epoch [17/50], \n",
            "    Training Loss: 0.0763, Prediction Loss: 2.0615, Accuracy on test set: 66.05%\n"
          ]
        },
        {
          "output_type": "stream",
          "name": "stderr",
          "text": [
            "\r 36%|███▌      | 18/50 [32:50<24:04, 45.13s/it]"
          ]
        },
        {
          "output_type": "stream",
          "name": "stdout",
          "text": [
            "Epoch [18/50], \n",
            "    Training Loss: 0.0876, Prediction Loss: 2.1295, Accuracy on test set: 64.94%\n"
          ]
        },
        {
          "output_type": "stream",
          "name": "stderr",
          "text": [
            "\r 38%|███▊      | 19/50 [33:35<23:14, 44.99s/it]"
          ]
        },
        {
          "output_type": "stream",
          "name": "stdout",
          "text": [
            "Epoch [19/50], \n",
            "    Training Loss: 0.0701, Prediction Loss: 2.2622, Accuracy on test set: 65.56%\n"
          ]
        },
        {
          "output_type": "stream",
          "name": "stderr",
          "text": [
            "\r 40%|████      | 20/50 [34:20<22:29, 45.00s/it]"
          ]
        },
        {
          "output_type": "stream",
          "name": "stdout",
          "text": [
            "Epoch [20/50], \n",
            "    Training Loss: 0.0475, Prediction Loss: 2.0470, Accuracy on test set: 66.67%\n"
          ]
        },
        {
          "output_type": "stream",
          "name": "stderr",
          "text": [
            "\r 42%|████▏     | 21/50 [35:06<21:54, 45.32s/it]"
          ]
        },
        {
          "output_type": "stream",
          "name": "stdout",
          "text": [
            "Epoch [21/50], \n",
            "    Training Loss: 0.0668, Prediction Loss: 2.3106, Accuracy on test set: 67.90%\n"
          ]
        },
        {
          "output_type": "stream",
          "name": "stderr",
          "text": [
            "\r 44%|████▍     | 22/50 [35:51<21:07, 45.27s/it]"
          ]
        },
        {
          "output_type": "stream",
          "name": "stdout",
          "text": [
            "Epoch [22/50], \n",
            "    Training Loss: 0.0465, Prediction Loss: 2.6755, Accuracy on test set: 68.39%\n"
          ]
        },
        {
          "output_type": "stream",
          "name": "stderr",
          "text": [
            "\r 46%|████▌     | 23/50 [36:36<20:17, 45.09s/it]"
          ]
        },
        {
          "output_type": "stream",
          "name": "stdout",
          "text": [
            "Epoch [23/50], \n",
            "    Training Loss: 0.0639, Prediction Loss: 2.3866, Accuracy on test set: 69.62%\n"
          ]
        },
        {
          "output_type": "stream",
          "name": "stderr",
          "text": [
            "\r 48%|████▊     | 24/50 [37:20<19:28, 44.96s/it]"
          ]
        },
        {
          "output_type": "stream",
          "name": "stdout",
          "text": [
            "Epoch [24/50], \n",
            "    Training Loss: 0.0370, Prediction Loss: 2.4878, Accuracy on test set: 66.79%\n"
          ]
        },
        {
          "output_type": "stream",
          "name": "stderr",
          "text": [
            "\r 50%|█████     | 25/50 [38:04<18:35, 44.63s/it]"
          ]
        },
        {
          "output_type": "stream",
          "name": "stdout",
          "text": [
            "Epoch [25/50], \n",
            "    Training Loss: 0.0493, Prediction Loss: 2.8767, Accuracy on test set: 67.40%\n"
          ]
        },
        {
          "output_type": "stream",
          "name": "stderr",
          "text": [
            "\r 52%|█████▏    | 26/50 [38:49<17:50, 44.60s/it]"
          ]
        },
        {
          "output_type": "stream",
          "name": "stdout",
          "text": [
            "Epoch [26/50], \n",
            "    Training Loss: 0.0424, Prediction Loss: 2.5767, Accuracy on test set: 66.05%\n"
          ]
        },
        {
          "output_type": "stream",
          "name": "stderr",
          "text": [
            "\r 54%|█████▍    | 27/50 [39:33<17:02, 44.45s/it]"
          ]
        },
        {
          "output_type": "stream",
          "name": "stdout",
          "text": [
            "Epoch [27/50], \n",
            "    Training Loss: 0.0451, Prediction Loss: 3.2680, Accuracy on test set: 66.67%\n"
          ]
        },
        {
          "output_type": "stream",
          "name": "stderr",
          "text": [
            "\r 56%|█████▌    | 28/50 [40:17<16:13, 44.26s/it]"
          ]
        },
        {
          "output_type": "stream",
          "name": "stdout",
          "text": [
            "Epoch [28/50], \n",
            "    Training Loss: 0.0503, Prediction Loss: 3.2145, Accuracy on test set: 63.96%\n"
          ]
        },
        {
          "output_type": "stream",
          "name": "stderr",
          "text": [
            "\r 58%|█████▊    | 29/50 [41:01<15:27, 44.18s/it]"
          ]
        },
        {
          "output_type": "stream",
          "name": "stdout",
          "text": [
            "Epoch [29/50], \n",
            "    Training Loss: 0.0661, Prediction Loss: 2.5372, Accuracy on test set: 66.91%\n"
          ]
        },
        {
          "output_type": "stream",
          "name": "stderr",
          "text": [
            "\r 60%|██████    | 30/50 [41:45<14:43, 44.15s/it]"
          ]
        },
        {
          "output_type": "stream",
          "name": "stdout",
          "text": [
            "Epoch [30/50], \n",
            "    Training Loss: 0.0439, Prediction Loss: 2.7753, Accuracy on test set: 65.93%\n"
          ]
        },
        {
          "output_type": "stream",
          "name": "stderr",
          "text": [
            "\r 62%|██████▏   | 31/50 [42:29<13:57, 44.09s/it]"
          ]
        },
        {
          "output_type": "stream",
          "name": "stdout",
          "text": [
            "Epoch [31/50], \n",
            "    Training Loss: 0.0407, Prediction Loss: 3.2485, Accuracy on test set: 64.94%\n"
          ]
        },
        {
          "output_type": "stream",
          "name": "stderr",
          "text": [
            "\r 64%|██████▍   | 32/50 [43:12<13:11, 43.96s/it]"
          ]
        },
        {
          "output_type": "stream",
          "name": "stdout",
          "text": [
            "Epoch [32/50], \n",
            "    Training Loss: 0.0792, Prediction Loss: 2.9219, Accuracy on test set: 66.42%\n"
          ]
        },
        {
          "output_type": "stream",
          "name": "stderr",
          "text": [
            "\r 66%|██████▌   | 33/50 [43:56<12:24, 43.81s/it]"
          ]
        },
        {
          "output_type": "stream",
          "name": "stdout",
          "text": [
            "Epoch [33/50], \n",
            "    Training Loss: 0.0519, Prediction Loss: 3.0316, Accuracy on test set: 64.08%\n"
          ]
        },
        {
          "output_type": "stream",
          "name": "stderr",
          "text": [
            "\r 68%|██████▊   | 34/50 [44:39<11:37, 43.62s/it]"
          ]
        },
        {
          "output_type": "stream",
          "name": "stdout",
          "text": [
            "Epoch [34/50], \n",
            "    Training Loss: 0.0491, Prediction Loss: 3.1394, Accuracy on test set: 65.56%\n"
          ]
        },
        {
          "output_type": "stream",
          "name": "stderr",
          "text": [
            "\r 70%|███████   | 35/50 [45:22<10:52, 43.53s/it]"
          ]
        },
        {
          "output_type": "stream",
          "name": "stdout",
          "text": [
            "Epoch [35/50], \n",
            "    Training Loss: 0.0361, Prediction Loss: 3.0384, Accuracy on test set: 64.21%\n"
          ]
        },
        {
          "output_type": "stream",
          "name": "stderr",
          "text": [
            "\r 72%|███████▏  | 36/50 [46:06<10:10, 43.59s/it]"
          ]
        },
        {
          "output_type": "stream",
          "name": "stdout",
          "text": [
            "Epoch [36/50], \n",
            "    Training Loss: 0.0498, Prediction Loss: 3.3608, Accuracy on test set: 63.71%\n"
          ]
        },
        {
          "output_type": "stream",
          "name": "stderr",
          "text": [
            "\r 74%|███████▍  | 37/50 [46:50<09:26, 43.60s/it]"
          ]
        },
        {
          "output_type": "stream",
          "name": "stdout",
          "text": [
            "Epoch [37/50], \n",
            "    Training Loss: 0.0418, Prediction Loss: 4.0998, Accuracy on test set: 64.08%\n"
          ]
        },
        {
          "output_type": "stream",
          "name": "stderr",
          "text": [
            "\r 76%|███████▌  | 38/50 [47:33<08:44, 43.70s/it]"
          ]
        },
        {
          "output_type": "stream",
          "name": "stdout",
          "text": [
            "Epoch [38/50], \n",
            "    Training Loss: 0.0741, Prediction Loss: 3.2680, Accuracy on test set: 66.79%\n"
          ]
        },
        {
          "output_type": "stream",
          "name": "stderr",
          "text": [
            "\r 78%|███████▊  | 39/50 [48:18<08:01, 43.80s/it]"
          ]
        },
        {
          "output_type": "stream",
          "name": "stdout",
          "text": [
            "Epoch [39/50], \n",
            "    Training Loss: 0.0277, Prediction Loss: 3.1494, Accuracy on test set: 65.56%\n"
          ]
        },
        {
          "output_type": "stream",
          "name": "stderr",
          "text": [
            "\r 80%|████████  | 40/50 [49:01<07:17, 43.72s/it]"
          ]
        },
        {
          "output_type": "stream",
          "name": "stdout",
          "text": [
            "Epoch [40/50], \n",
            "    Training Loss: 0.0787, Prediction Loss: 4.1026, Accuracy on test set: 66.05%\n"
          ]
        },
        {
          "output_type": "stream",
          "name": "stderr",
          "text": [
            "\r 82%|████████▏ | 41/50 [49:45<06:34, 43.82s/it]"
          ]
        },
        {
          "output_type": "stream",
          "name": "stdout",
          "text": [
            "Epoch [41/50], \n",
            "    Training Loss: 0.0287, Prediction Loss: 3.2827, Accuracy on test set: 65.19%\n"
          ]
        },
        {
          "output_type": "stream",
          "name": "stderr",
          "text": [
            "\r 84%|████████▍ | 42/50 [50:29<05:51, 43.94s/it]"
          ]
        },
        {
          "output_type": "stream",
          "name": "stdout",
          "text": [
            "Epoch [42/50], \n",
            "    Training Loss: 0.0587, Prediction Loss: 2.8382, Accuracy on test set: 65.68%\n"
          ]
        },
        {
          "output_type": "stream",
          "name": "stderr",
          "text": [
            "\r 86%|████████▌ | 43/50 [51:13<05:06, 43.82s/it]"
          ]
        },
        {
          "output_type": "stream",
          "name": "stdout",
          "text": [
            "Epoch [43/50], \n",
            "    Training Loss: 0.0237, Prediction Loss: 3.9495, Accuracy on test set: 66.42%\n"
          ]
        },
        {
          "output_type": "stream",
          "name": "stderr",
          "text": [
            "\r 88%|████████▊ | 44/50 [51:57<04:23, 43.89s/it]"
          ]
        },
        {
          "output_type": "stream",
          "name": "stdout",
          "text": [
            "Epoch [44/50], \n",
            "    Training Loss: 0.0858, Prediction Loss: 4.3786, Accuracy on test set: 64.82%\n"
          ]
        },
        {
          "output_type": "stream",
          "name": "stderr",
          "text": [
            "\r 90%|█████████ | 45/50 [52:41<03:40, 44.07s/it]"
          ]
        },
        {
          "output_type": "stream",
          "name": "stdout",
          "text": [
            "Epoch [45/50], \n",
            "    Training Loss: 0.0473, Prediction Loss: 4.0804, Accuracy on test set: 63.96%\n"
          ]
        },
        {
          "output_type": "stream",
          "name": "stderr",
          "text": [
            "\r 92%|█████████▏| 46/50 [53:25<02:56, 44.00s/it]"
          ]
        },
        {
          "output_type": "stream",
          "name": "stdout",
          "text": [
            "Epoch [46/50], \n",
            "    Training Loss: 0.0194, Prediction Loss: 4.5838, Accuracy on test set: 66.67%\n"
          ]
        },
        {
          "output_type": "stream",
          "name": "stderr",
          "text": [
            "\r 94%|█████████▍| 47/50 [54:10<02:12, 44.15s/it]"
          ]
        },
        {
          "output_type": "stream",
          "name": "stdout",
          "text": [
            "Epoch [47/50], \n",
            "    Training Loss: 0.0537, Prediction Loss: 5.1806, Accuracy on test set: 63.71%\n"
          ]
        },
        {
          "output_type": "stream",
          "name": "stderr",
          "text": [
            "\r 96%|█████████▌| 48/50 [54:54<01:28, 44.19s/it]"
          ]
        },
        {
          "output_type": "stream",
          "name": "stdout",
          "text": [
            "Epoch [48/50], \n",
            "    Training Loss: 0.0671, Prediction Loss: 3.7179, Accuracy on test set: 63.59%\n"
          ]
        },
        {
          "output_type": "stream",
          "name": "stderr",
          "text": [
            "\r 98%|█████████▊| 49/50 [55:37<00:43, 43.93s/it]"
          ]
        },
        {
          "output_type": "stream",
          "name": "stdout",
          "text": [
            "Epoch [49/50], \n",
            "    Training Loss: 0.0300, Prediction Loss: 3.9014, Accuracy on test set: 65.56%\n"
          ]
        },
        {
          "output_type": "stream",
          "name": "stderr",
          "text": [
            "100%|██████████| 50/50 [56:21<00:00, 67.63s/it]"
          ]
        },
        {
          "output_type": "stream",
          "name": "stdout",
          "text": [
            "Epoch [50/50], \n",
            "    Training Loss: 0.0392, Prediction Loss: 4.8042, Accuracy on test set: 67.40%\n"
          ]
        },
        {
          "output_type": "stream",
          "name": "stderr",
          "text": [
            "\n"
          ]
        }
      ]
    },
    {
      "cell_type": "code",
      "source": [
        "torch.save(model.state_dict(), 'car_classifier.pth')"
      ],
      "metadata": {
        "id": "mosSCvO4P6yJ"
      },
      "execution_count": null,
      "outputs": []
    },
    {
      "cell_type": "markdown",
      "source": [
        "**Visualize Model Training Process**"
      ],
      "metadata": {
        "id": "NJErZp9wSzDL"
      }
    },
    {
      "cell_type": "code",
      "source": [
        "import matplotlib.pyplot as plt\n",
        "def loss_curve():\n",
        "    plt.figure(figsize=(10, 6))\n",
        "    plt.plot(training_loss, label='Training Loss')\n",
        "    plt.plot(prediction_loss, label='Prediction Loss')\n",
        "    plt.title('Loss Curve')\n",
        "    plt.xlabel('Epoch')\n",
        "    plt.ylabel('Loss')\n",
        "    plt.legend()\n",
        "    plt.show()"
      ],
      "metadata": {
        "id": "iV-GXmfUP9Os"
      },
      "execution_count": null,
      "outputs": []
    },
    {
      "cell_type": "code",
      "source": [
        "loss_curve()"
      ],
      "metadata": {
        "colab": {
          "base_uri": "https://localhost:8080/",
          "height": 584
        },
        "id": "5eVKLNtVP_-f",
        "outputId": "bd5e140e-99f6-475e-fb2f-c25aff0ca8fa"
      },
      "execution_count": null,
      "outputs": [
        {
          "output_type": "display_data",
          "data": {
            "text/plain": [
              "<Figure size 1000x600 with 1 Axes>"
            ],
            "image/png": "[encoded data removed]"
          },
          "metadata": {}
        }
      ]
    },
    {
      "cell_type": "markdown",
      "source": [
        "**Thử nghiệm dự đoán**"
      ],
      "metadata": {
        "id": "-q0PnmaCTCSE"
      }
    },
    {
      "cell_type": "code",
      "source": [
        "from PIL import Image\n",
        "\n",
        "model = CNNModel()\n",
        "model.load_state_dict(torch.load('car_classifier.pth'))\n",
        "model.eval()\n",
        "\n",
        "transform = transforms.Compose([\n",
        "    transforms.Resize((224, 224)),\n",
        "    transforms.ToTensor(),\n",
        "    transforms.Normalize(mean=[0.5, 0.5, 0.5], std=[0.5, 0.5, 0.5])\n",
        "])\n",
        "\n",
        "image = Image.open('/content/drive/MyDrive/AI/carDetec/test/Toyota Innova/1066.jpg')\n",
        "image = transform(image).unsqueeze(0)\n",
        "\n",
        "with torch.no_grad():\n",
        "    output = model(image)\n",
        "\n",
        "probabilities = torch.softmax(output, dim=1)\n",
        "predicted_class = torch.argmax(probabilities, dim=1).item()\n",
        "\n",
        "if predicted_class == 0:\n",
        "    print(f\"Predicted class: Audi\")\n",
        "elif predicted_class == 1:\n",
        "    print(f\"Predicted class: Huyndai Creta\")\n",
        "elif predicted_class == 2:\n",
        "    print(f\"Predicted class: Mahindra Scorpio\")\n",
        "elif predicted_class == 3:\n",
        "    print(f\"Predicted class: Rolls Royce\")\n",
        "elif predicted_class == 4:\n",
        "    print(f\"Predicted class: Swift\")\n",
        "elif predicted_class == 5:\n",
        "    print(f\"Predicted class: Tata Safari\")\n",
        "else:\n",
        "    print(f\"Predicted class: Toyota Innova\")"
      ],
      "metadata": {
        "colab": {
          "base_uri": "https://localhost:8080/"
        },
        "id": "nbud7fPGQI-U",
        "outputId": "2ff556fa-35d5-4db2-b529-03bdd6233e44"
      },
      "execution_count": null,
      "outputs": [
        {
          "output_type": "stream",
          "name": "stdout",
          "text": [
            "Predicted class: Toyota Innova\n"
          ]
        }
      ]
    },
    {
      "cell_type": "markdown",
      "source": [
        "**Đánh giá mô hình**\n",
        "\n",
        "Model trên đang overfiting do thiếu dataset\n",
        "Với chỉ sấp sỉ 3200 bức ảnh cho việc phân loại xác định 7 hãng xe thì model chỉ dự đoán chính xác ~70%\n",
        "Cần thêm data để tiếp tục việc huấn luyện trở nên chính xác hơn\n"
      ],
      "metadata": {
        "id": "CjyJYiSvRgmX"
      }
    },
    {
      "cell_type": "code",
      "source": [],
      "metadata": {
        "id": "j1b55i3hSZKx"
      },
      "execution_count": null,
      "outputs": []
    }
  ]
}